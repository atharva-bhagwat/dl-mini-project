{
  "cells": [
    {
      "cell_type": "code",
      "execution_count": null,
      "metadata": {
        "id": "fP5-trBXDBVa"
      },
      "outputs": [],
      "source": [
        "import os\n",
        "import numpy as np\n",
        "import torch\n",
        "import torchvision\n",
        "from torchvision import transforms\n",
        "import torch.nn as nn\n",
        "import torch.nn.functional as F\n",
        "import matplotlib.pyplot as plt\n",
        "from torchsummary import summary\n",
        "from torch.utils.data import random_split"
      ]
    },
    {
      "cell_type": "code",
      "execution_count": null,
      "metadata": {
        "id": "O8k-eJYPrmVI"
      },
      "outputs": [],
      "source": [
        "# path to save best model\n",
        "MODEL_PATH = \"/content/drive/MyDrive/DL/mini_project\""
      ]
    },
    {
      "cell_type": "code",
      "execution_count": null,
      "metadata": {
        "id": "0GYNZ-6aDKRx"
      },
      "outputs": [],
      "source": [
        "# BasicBlock and ResNet block in reference to https://github.com/kuangliu/pytorch-cifar\n",
        "class BasicBlock(nn.Module):\n",
        "  expansion = 1\n",
        "\n",
        "  def __init__(self, in_planes, planes, stride=1):\n",
        "    super(BasicBlock, self).__init__()\n",
        "    self.conv1 = nn.Conv2d(\n",
        "        in_planes, planes, kernel_size=3, stride=stride, padding=1, bias=False)\n",
        "    self.bn1 = nn.BatchNorm2d(planes)\n",
        "    self.conv2 = nn.Conv2d(planes, planes, kernel_size=3,\n",
        "                            stride=1, padding=1, bias=False)\n",
        "    self.bn2 = nn.BatchNorm2d(planes)\n",
        "\n",
        "    self.shortcut = nn.Sequential()\n",
        "    if stride != 1 or in_planes != self.expansion*planes:\n",
        "        self.shortcut = nn.Sequential(\n",
        "            nn.Conv2d(in_planes, self.expansion*planes,\n",
        "                      kernel_size=1, stride=stride, bias=False),\n",
        "            nn.BatchNorm2d(self.expansion*planes)\n",
        "        )\n",
        "\n",
        "  def forward(self, x):\n",
        "    out = F.relu(self.bn1(self.conv1(x)))\n",
        "    out = self.bn2(self.conv2(out))\n",
        "    out += self.shortcut(x)\n",
        "    out = F.relu(out)\n",
        "    return out\n",
        "\n",
        "# Updated ResNet with 3 layers instead of original 4 layers architecture\n",
        "class ResNet(nn.Module):\n",
        "  def __init__(self, block, num_blocks, num_classes=10):\n",
        "    super(ResNet, self).__init__()\n",
        "    self.in_planes = 64\n",
        "\n",
        "    self.conv1 = nn.Conv2d(3, 64, kernel_size=3,\n",
        "                            stride=1, padding=1, bias=False)\n",
        "    self.bn1 = nn.BatchNorm2d(64)\n",
        "    self.layer1 = self._make_layer(block, 64, num_blocks[0], stride=1)\n",
        "    self.layer2 = self._make_layer(block, 128, num_blocks[1], stride=2)\n",
        "    self.layer3 = self._make_layer(block, 256, num_blocks[2], stride=2)\n",
        "    self.linear = nn.Linear(256*block.expansion, num_classes)\n",
        "\n",
        "  def _make_layer(self, block, planes, num_blocks, stride):\n",
        "    strides = [stride] + [1]*(num_blocks-1)\n",
        "    layers = []\n",
        "    for stride in strides:\n",
        "        layers.append(block(self.in_planes, planes, stride))\n",
        "        self.in_planes = planes * block.expansion\n",
        "    return nn.Sequential(*layers)\n",
        "\n",
        "  def forward(self, x):\n",
        "    out = F.relu(self.bn1(self.conv1(x)))\n",
        "    out = self.layer1(out)\n",
        "    out = self.layer2(out)\n",
        "    out = self.layer3(out)\n",
        "    out = F.avg_pool2d(out, 8)\n",
        "    out = out.view(out.size(0), -1)\n",
        "    out = self.linear(out)\n",
        "    return out\n",
        "\n",
        "def ResNetSmall():\n",
        "  \"\"\"Helper function to return 3 layer model of 4, 4, 3 block structure\n",
        "  \"\"\"\n",
        "  return ResNet(BasicBlock, [4,4,3])"
      ]
    },
    {
      "cell_type": "code",
      "execution_count": null,
      "metadata": {
        "id": "yKdvZJQSDOBF"
      },
      "outputs": [],
      "source": [
        "# Data transformation and normalization\n",
        "transforms_train = transforms.Compose([\n",
        "        transforms.RandomCrop(32, padding=4),\n",
        "        transforms.RandomHorizontalFlip(),\n",
        "        transforms.ToTensor(),\n",
        "        transforms.Normalize((0.4914, 0.4822, 0.4465), (0.2023, 0.1994, 0.2010))])\n",
        "\n",
        "transforms_test = transforms.Compose([\n",
        "        transforms.ToTensor(),\n",
        "        transforms.Normalize((0.4914, 0.4822, 0.4465), (0.2023, 0.1994, 0.2010))])"
      ]
    },
    {
      "cell_type": "code",
      "execution_count": null,
      "metadata": {
        "colab": {
          "base_uri": "https://localhost:8080/"
        },
        "id": "iFiiRCOkDN-v",
        "outputId": "47d87f26-093e-4e72-f5d6-d759311f1d58"
      },
      "outputs": [
        {
          "name": "stdout",
          "output_type": "stream",
          "text": [
            "Files already downloaded and verified\n",
            "Files already downloaded and verified\n"
          ]
        }
      ],
      "source": [
        "# data loading\n",
        "training_data = torchvision.datasets.CIFAR10('./CIFAR10', train=True, transform=transforms_train, download=True)\n",
        "test_data = torchvision.datasets.CIFAR10('./CIFAR10', train=False, transform=transforms_test, download=True)"
      ]
    },
    {
      "cell_type": "code",
      "execution_count": null,
      "metadata": {
        "id": "eUDY8qIY2vao"
      },
      "outputs": [],
      "source": [
        "batch_size = 128\n",
        "validation_size = 5000\n",
        "training_size = len(training_data) - validation_size"
      ]
    },
    {
      "cell_type": "code",
      "execution_count": null,
      "metadata": {
        "id": "Iw8EPfLQ2v87"
      },
      "outputs": [],
      "source": [
        "# splitting training set into training and validation set\n",
        "training_data, validation_data = random_split(training_data, [training_size, validation_size])"
      ]
    },
    {
      "cell_type": "code",
      "execution_count": null,
      "metadata": {
        "id": "P2lw_NibDN8H"
      },
      "outputs": [],
      "source": [
        "# create data loader objects\n",
        "train_data_loader = torch.utils.data.DataLoader(training_data, batch_size=batch_size, shuffle=True)\n",
        "val_data_loader = torch.utils.data.DataLoader(validation_data, batch_size=batch_size)\n",
        "test_data_loader = torch.utils.data.DataLoader(test_data, batch_size=batch_size*2)"
      ]
    },
    {
      "cell_type": "code",
      "execution_count": null,
      "metadata": {
        "id": "QJB4rJkjtr19"
      },
      "outputs": [],
      "source": [
        "device = torch.device('cuda' if torch.cuda.is_available() else 'cpu')"
      ]
    },
    {
      "cell_type": "code",
      "execution_count": null,
      "metadata": {
        "id": "8MNxfc3nDN6C"
      },
      "outputs": [],
      "source": [
        "# create model object, initialize loss, optimizer, and scheduler\n",
        "net = ResNetSmall().to(device)\n",
        "criterion = torch.nn.CrossEntropyLoss()\n",
        "# set weight decay(L2 penalty) and momentum\n",
        "optimizer = torch.optim.SGD(net.parameters(), lr=0.01, weight_decay=0.0005, momentum=0.9)\n",
        "scheduler = torch.optim.lr_scheduler.CosineAnnealingLR(optimizer, T_max=100)"
      ]
    },
    {
      "cell_type": "code",
      "execution_count": null,
      "metadata": {
        "colab": {
          "base_uri": "https://localhost:8080/"
        },
        "id": "fvcY7_ZXDSxw",
        "outputId": "893aae00-e630-4f81-89b0-53d89f5f1292"
      },
      "outputs": [
        {
          "name": "stdout",
          "output_type": "stream",
          "text": [
            "----------------------------------------------------------------\n",
            "        Layer (type)               Output Shape         Param #\n",
            "================================================================\n",
            "            Conv2d-1           [-1, 64, 32, 32]           1,728\n",
            "       BatchNorm2d-2           [-1, 64, 32, 32]             128\n",
            "            Conv2d-3           [-1, 64, 32, 32]          36,864\n",
            "       BatchNorm2d-4           [-1, 64, 32, 32]             128\n",
            "            Conv2d-5           [-1, 64, 32, 32]          36,864\n",
            "       BatchNorm2d-6           [-1, 64, 32, 32]             128\n",
            "        BasicBlock-7           [-1, 64, 32, 32]               0\n",
            "            Conv2d-8           [-1, 64, 32, 32]          36,864\n",
            "       BatchNorm2d-9           [-1, 64, 32, 32]             128\n",
            "           Conv2d-10           [-1, 64, 32, 32]          36,864\n",
            "      BatchNorm2d-11           [-1, 64, 32, 32]             128\n",
            "       BasicBlock-12           [-1, 64, 32, 32]               0\n",
            "           Conv2d-13           [-1, 64, 32, 32]          36,864\n",
            "      BatchNorm2d-14           [-1, 64, 32, 32]             128\n",
            "           Conv2d-15           [-1, 64, 32, 32]          36,864\n",
            "      BatchNorm2d-16           [-1, 64, 32, 32]             128\n",
            "       BasicBlock-17           [-1, 64, 32, 32]               0\n",
            "           Conv2d-18           [-1, 64, 32, 32]          36,864\n",
            "      BatchNorm2d-19           [-1, 64, 32, 32]             128\n",
            "           Conv2d-20           [-1, 64, 32, 32]          36,864\n",
            "      BatchNorm2d-21           [-1, 64, 32, 32]             128\n",
            "       BasicBlock-22           [-1, 64, 32, 32]               0\n",
            "           Conv2d-23          [-1, 128, 16, 16]          73,728\n",
            "      BatchNorm2d-24          [-1, 128, 16, 16]             256\n",
            "           Conv2d-25          [-1, 128, 16, 16]         147,456\n",
            "      BatchNorm2d-26          [-1, 128, 16, 16]             256\n",
            "           Conv2d-27          [-1, 128, 16, 16]           8,192\n",
            "      BatchNorm2d-28          [-1, 128, 16, 16]             256\n",
            "       BasicBlock-29          [-1, 128, 16, 16]               0\n",
            "           Conv2d-30          [-1, 128, 16, 16]         147,456\n",
            "      BatchNorm2d-31          [-1, 128, 16, 16]             256\n",
            "           Conv2d-32          [-1, 128, 16, 16]         147,456\n",
            "      BatchNorm2d-33          [-1, 128, 16, 16]             256\n",
            "       BasicBlock-34          [-1, 128, 16, 16]               0\n",
            "           Conv2d-35          [-1, 128, 16, 16]         147,456\n",
            "      BatchNorm2d-36          [-1, 128, 16, 16]             256\n",
            "           Conv2d-37          [-1, 128, 16, 16]         147,456\n",
            "      BatchNorm2d-38          [-1, 128, 16, 16]             256\n",
            "       BasicBlock-39          [-1, 128, 16, 16]               0\n",
            "           Conv2d-40          [-1, 128, 16, 16]         147,456\n",
            "      BatchNorm2d-41          [-1, 128, 16, 16]             256\n",
            "           Conv2d-42          [-1, 128, 16, 16]         147,456\n",
            "      BatchNorm2d-43          [-1, 128, 16, 16]             256\n",
            "       BasicBlock-44          [-1, 128, 16, 16]               0\n",
            "           Conv2d-45            [-1, 256, 8, 8]         294,912\n",
            "      BatchNorm2d-46            [-1, 256, 8, 8]             512\n",
            "           Conv2d-47            [-1, 256, 8, 8]         589,824\n",
            "      BatchNorm2d-48            [-1, 256, 8, 8]             512\n",
            "           Conv2d-49            [-1, 256, 8, 8]          32,768\n",
            "      BatchNorm2d-50            [-1, 256, 8, 8]             512\n",
            "       BasicBlock-51            [-1, 256, 8, 8]               0\n",
            "           Conv2d-52            [-1, 256, 8, 8]         589,824\n",
            "      BatchNorm2d-53            [-1, 256, 8, 8]             512\n",
            "           Conv2d-54            [-1, 256, 8, 8]         589,824\n",
            "      BatchNorm2d-55            [-1, 256, 8, 8]             512\n",
            "       BasicBlock-56            [-1, 256, 8, 8]               0\n",
            "           Conv2d-57            [-1, 256, 8, 8]         589,824\n",
            "      BatchNorm2d-58            [-1, 256, 8, 8]             512\n",
            "           Conv2d-59            [-1, 256, 8, 8]         589,824\n",
            "      BatchNorm2d-60            [-1, 256, 8, 8]             512\n",
            "       BasicBlock-61            [-1, 256, 8, 8]               0\n",
            "           Linear-62                   [-1, 10]           2,570\n",
            "================================================================\n",
            "Total params: 4,697,162\n",
            "Trainable params: 4,697,162\n",
            "Non-trainable params: 0\n",
            "----------------------------------------------------------------\n",
            "Input size (MB): 0.01\n",
            "Forward/backward pass size (MB): 18.63\n",
            "Params size (MB): 17.92\n",
            "Estimated Total Size (MB): 36.56\n",
            "----------------------------------------------------------------\n"
          ]
        }
      ],
      "source": [
        "# model summary to see number of trainable parameters\n",
        "summary(net, (3,32,32))"
      ]
    },
    {
      "cell_type": "code",
      "execution_count": null,
      "metadata": {
        "id": "AolhTxSzlAkH"
      },
      "outputs": [],
      "source": [
        "def train():\n",
        "  \"\"\"Training loop\n",
        "  \"\"\"\n",
        "  train_loss = 0.0\n",
        "  correct = 0\n",
        "  total = 0\n",
        "\n",
        "  net.train()\n",
        "  for i, (images, labels) in enumerate(train_data_loader):\n",
        "    images, labels = images.to(device), labels.to(device)\n",
        "    \n",
        "    optimizer.zero_grad()\n",
        "    outputs = net(images)\n",
        "    fit = criterion(outputs, labels)\n",
        "    fit.backward()\n",
        "    nn.utils.clip_grad_value_(net.parameters(), clip_value=0.1)\n",
        "    optimizer.step()\n",
        "    train_loss += fit.item()\n",
        "    \n",
        "    # accuracy\n",
        "    _, pred = outputs.max(1)\n",
        "    total += labels.size(0)\n",
        "    correct += (pred == labels).sum()\n",
        "\n",
        "  loss = train_loss / len(train_data_loader)\n",
        "  train_acc = float(correct)/float(total)\n",
        "\n",
        "  print(f'Training loss: {loss:.2f}, Training acc: {train_acc:.2f}')\n",
        "\n",
        "  return loss\n",
        "\n",
        "def validate():\n",
        "  \"\"\"Validation loop\n",
        "  \"\"\"\n",
        "  global best_loss\n",
        "  val_loss = 0.0\n",
        "  correct = 0\n",
        "  total = 0\n",
        "\n",
        "  net.eval()\n",
        "  for i, (images, labels) in enumerate(val_data_loader):\n",
        "    images, labels = images.to(device), labels.to(device)\n",
        "\n",
        "    outputs = net(images)\n",
        "    fit = criterion(outputs, labels)\n",
        "    val_loss += fit.item()\n",
        "\n",
        "    # accuracy\n",
        "    _, pred = outputs.max(1)\n",
        "    total += labels.size(0)\n",
        "    correct += (pred == labels).sum()\n",
        "\n",
        "  loss = val_loss / len(val_data_loader)\n",
        "  val_acc = float(correct)/float(total)\n",
        "\n",
        "  print(f'Validation loss: {loss:.2f}, Validation acc: {val_acc:.2f}')\n",
        "\n",
        "  # save model if current validation loss is less than previous best\n",
        "  if loss < best_loss:\n",
        "    best_loss = loss\n",
        "    path = os.path.join(MODEL_PATH, f'resnet.pth')\n",
        "    torch.save(net.state_dict(), path)\n",
        "    print(f'Model saved at {path}...')\n",
        "\n",
        "  return loss"
      ]
    },
    {
      "cell_type": "code",
      "execution_count": null,
      "metadata": {
        "colab": {
          "base_uri": "https://localhost:8080/"
        },
        "id": "QQr1_nX0DSvb",
        "outputId": "99131d67-9c41-485c-f80d-a592cdb7340c"
      },
      "outputs": [
        {
          "name": "stdout",
          "output_type": "stream",
          "text": [
            "Epoch 0:\n",
            "Training loss: 1.43, Training acc: 0.47\n",
            "Validation loss: 1.22, Validation acc: 0.57\n",
            "**********\n",
            "Epoch 1:\n",
            "Training loss: 0.95, Training acc: 0.66\n",
            "Validation loss: 0.86, Validation acc: 0.70\n",
            "**********\n",
            "Epoch 2:\n",
            "Training loss: 0.75, Training acc: 0.74\n",
            "Validation loss: 0.84, Validation acc: 0.70\n",
            "**********\n",
            "Epoch 3:\n",
            "Training loss: 0.62, Training acc: 0.78\n",
            "Validation loss: 1.00, Validation acc: 0.69\n",
            "**********\n",
            "Epoch 4:\n",
            "Training loss: 0.54, Training acc: 0.81\n",
            "Validation loss: 0.65, Validation acc: 0.78\n",
            "**********\n",
            "Epoch 5:\n",
            "Training loss: 0.49, Training acc: 0.83\n",
            "Validation loss: 0.58, Validation acc: 0.81\n",
            "**********\n",
            "Epoch 6:\n",
            "Training loss: 0.44, Training acc: 0.85\n",
            "Validation loss: 0.49, Validation acc: 0.84\n",
            "**********\n",
            "Epoch 7:\n",
            "Training loss: 0.40, Training acc: 0.86\n",
            "Validation loss: 0.50, Validation acc: 0.84\n",
            "**********\n",
            "Epoch 8:\n",
            "Training loss: 0.37, Training acc: 0.87\n",
            "Validation loss: 0.58, Validation acc: 0.82\n",
            "**********\n",
            "Epoch 9:\n",
            "Training loss: 0.34, Training acc: 0.88\n",
            "Validation loss: 0.49, Validation acc: 0.84\n",
            "**********\n",
            "Epoch 10:\n",
            "Training loss: 0.32, Training acc: 0.89\n",
            "Validation loss: 0.50, Validation acc: 0.84\n",
            "**********\n",
            "Epoch 11:\n",
            "Training loss: 0.30, Training acc: 0.90\n",
            "Validation loss: 0.49, Validation acc: 0.83\n",
            "**********\n",
            "Epoch 12:\n",
            "Training loss: 0.28, Training acc: 0.90\n",
            "Validation loss: 0.42, Validation acc: 0.86\n",
            "**********\n",
            "Epoch 13:\n",
            "Training loss: 0.26, Training acc: 0.91\n",
            "Validation loss: 0.45, Validation acc: 0.86\n",
            "**********\n",
            "Epoch 14:\n",
            "Training loss: 0.25, Training acc: 0.91\n",
            "Validation loss: 0.37, Validation acc: 0.88\n",
            "**********\n",
            "Epoch 15:\n",
            "Training loss: 0.23, Training acc: 0.92\n",
            "Validation loss: 0.39, Validation acc: 0.87\n",
            "**********\n",
            "Epoch 16:\n",
            "Training loss: 0.22, Training acc: 0.92\n",
            "Validation loss: 0.38, Validation acc: 0.88\n",
            "**********\n",
            "Epoch 17:\n",
            "Training loss: 0.21, Training acc: 0.93\n",
            "Validation loss: 0.36, Validation acc: 0.89\n",
            "**********\n",
            "Epoch 18:\n",
            "Training loss: 0.20, Training acc: 0.93\n",
            "Validation loss: 0.37, Validation acc: 0.88\n",
            "**********\n",
            "Epoch 19:\n",
            "Training loss: 0.18, Training acc: 0.93\n",
            "Validation loss: 0.50, Validation acc: 0.84\n",
            "**********\n",
            "Epoch 20:\n",
            "Training loss: 0.18, Training acc: 0.94\n",
            "Validation loss: 0.38, Validation acc: 0.88\n",
            "**********\n",
            "Epoch 21:\n",
            "Training loss: 0.17, Training acc: 0.94\n",
            "Validation loss: 0.37, Validation acc: 0.89\n",
            "**********\n",
            "Epoch 22:\n",
            "Training loss: 0.16, Training acc: 0.94\n",
            "Validation loss: 0.39, Validation acc: 0.87\n",
            "**********\n",
            "Epoch 23:\n",
            "Training loss: 0.15, Training acc: 0.95\n",
            "Validation loss: 0.35, Validation acc: 0.89\n",
            "**********\n",
            "Epoch 24:\n",
            "Training loss: 0.15, Training acc: 0.95\n",
            "Validation loss: 0.37, Validation acc: 0.89\n",
            "**********\n",
            "Epoch 25:\n",
            "Training loss: 0.13, Training acc: 0.95\n",
            "Validation loss: 0.30, Validation acc: 0.91\n",
            "**********\n",
            "Epoch 26:\n",
            "Training loss: 0.14, Training acc: 0.95\n",
            "Validation loss: 0.38, Validation acc: 0.89\n",
            "**********\n",
            "Epoch 27:\n",
            "Training loss: 0.12, Training acc: 0.96\n",
            "Validation loss: 0.38, Validation acc: 0.89\n",
            "**********\n",
            "Epoch 28:\n",
            "Training loss: 0.12, Training acc: 0.96\n",
            "Validation loss: 0.36, Validation acc: 0.89\n",
            "**********\n",
            "Epoch 29:\n",
            "Training loss: 0.11, Training acc: 0.96\n",
            "Validation loss: 0.39, Validation acc: 0.89\n",
            "**********\n",
            "Epoch 30:\n",
            "Training loss: 0.11, Training acc: 0.96\n",
            "Validation loss: 0.43, Validation acc: 0.88\n",
            "**********\n",
            "Epoch 31:\n",
            "Training loss: 0.10, Training acc: 0.96\n",
            "Validation loss: 0.33, Validation acc: 0.90\n",
            "**********\n",
            "Epoch 32:\n",
            "Training loss: 0.10, Training acc: 0.96\n",
            "Validation loss: 0.39, Validation acc: 0.88\n",
            "**********\n",
            "Epoch 33:\n",
            "Training loss: 0.10, Training acc: 0.97\n",
            "Validation loss: 0.32, Validation acc: 0.90\n",
            "**********\n",
            "Epoch 34:\n",
            "Training loss: 0.10, Training acc: 0.97\n",
            "Validation loss: 0.47, Validation acc: 0.86\n",
            "**********\n",
            "Epoch 35:\n",
            "Training loss: 0.09, Training acc: 0.97\n",
            "Validation loss: 0.36, Validation acc: 0.90\n",
            "**********\n",
            "Epoch 36:\n",
            "Training loss: 0.09, Training acc: 0.97\n",
            "Validation loss: 0.35, Validation acc: 0.90\n",
            "**********\n",
            "Epoch 37:\n",
            "Training loss: 0.08, Training acc: 0.97\n",
            "Validation loss: 0.35, Validation acc: 0.90\n",
            "**********\n",
            "Epoch 38:\n",
            "Training loss: 0.08, Training acc: 0.97\n",
            "Validation loss: 0.43, Validation acc: 0.89\n",
            "**********\n",
            "Epoch 39:\n",
            "Training loss: 0.08, Training acc: 0.97\n",
            "Validation loss: 0.34, Validation acc: 0.91\n",
            "**********\n",
            "Epoch 40:\n",
            "Training loss: 0.08, Training acc: 0.97\n",
            "Validation loss: 0.38, Validation acc: 0.90\n",
            "**********\n",
            "Epoch 41:\n",
            "Training loss: 0.07, Training acc: 0.98\n",
            "Validation loss: 0.40, Validation acc: 0.89\n",
            "**********\n",
            "Epoch 42:\n",
            "Training loss: 0.07, Training acc: 0.98\n",
            "Validation loss: 0.35, Validation acc: 0.91\n",
            "**********\n",
            "Epoch 43:\n",
            "Training loss: 0.07, Training acc: 0.98\n",
            "Validation loss: 0.28, Validation acc: 0.92\n",
            "**********\n",
            "Epoch 44:\n",
            "Training loss: 0.06, Training acc: 0.98\n",
            "Validation loss: 0.39, Validation acc: 0.90\n",
            "**********\n",
            "Epoch 45:\n",
            "Training loss: 0.06, Training acc: 0.98\n",
            "Validation loss: 0.35, Validation acc: 0.90\n",
            "**********\n",
            "Epoch 46:\n",
            "Training loss: 0.06, Training acc: 0.98\n",
            "Validation loss: 0.50, Validation acc: 0.87\n",
            "**********\n",
            "Epoch 47:\n",
            "Training loss: 0.06, Training acc: 0.98\n",
            "Validation loss: 0.37, Validation acc: 0.90\n",
            "**********\n",
            "Epoch 48:\n",
            "Training loss: 0.06, Training acc: 0.98\n",
            "Validation loss: 0.37, Validation acc: 0.90\n",
            "**********\n",
            "Epoch 49:\n",
            "Training loss: 0.06, Training acc: 0.98\n",
            "Validation loss: 0.32, Validation acc: 0.91\n",
            "**********\n"
          ]
        }
      ],
      "source": [
        "# driver cell to run train and validation methods\n",
        "epochs = 50\n",
        "train_loss_history = []\n",
        "val_loss_history = []\n",
        "best_loss = np.inf\n",
        "\n",
        "for epoch in range(epochs):\n",
        "  print(f'Epoch {epoch}:')\n",
        "  train_loss_history.append(train())\n",
        "  val_loss_history.append(validate())\n",
        "  scheduler.step()\n",
        "  print(f'*'*10)"
      ]
    },
    {
      "cell_type": "code",
      "execution_count": null,
      "metadata": {
        "colab": {
          "base_uri": "https://localhost:8080/",
          "height": 279
        },
        "id": "iXKFIBT4DWCV",
        "outputId": "70f83797-df6e-40bb-9ca8-afe92e5dc6c0"
      },
      "outputs": [
        {
          "data": {
            "image/png": "[encoded data removed]",
            "text/plain": [
              "<Figure size 432x288 with 1 Axes>"
            ]
          },
          "metadata": {
            "needs_background": "light"
          },
          "output_type": "display_data"
        }
      ],
      "source": [
        "# train-val loss curves\n",
        "plt.plot(range(epochs), train_loss_history, '-', label=\"train\")\n",
        "plt.plot(range(epochs), val_loss_history, '-', label=\"validation\")\n",
        "plt.xlabel('Epoch')\n",
        "plt.ylabel('Loss')\n",
        "plt.grid(True)\n",
        "plt.legend()\n",
        "plt.savefig(\"/content/drive/MyDrive/DL/mini_project/resnet_3layer_443.jpg\")"
      ]
    },
    {
      "cell_type": "code",
      "execution_count": null,
      "metadata": {
        "id": "kSDTV1pIXoVS"
      },
      "outputs": [],
      "source": [
        "# load best model\n",
        "net = torch.load(os.path.join(MODEL_PATH, f'resnet.pth'))\n",
        "net.to(device)"
      ]
    },
    {
      "cell_type": "code",
      "execution_count": null,
      "metadata": {
        "colab": {
          "base_uri": "https://localhost:8080/"
        },
        "id": "-iKXeZ4UDWAQ",
        "outputId": "297b5603-e796-4cdf-eabf-3bb44cef68d8"
      },
      "outputs": [
        {
          "name": "stdout",
          "output_type": "stream",
          "text": [
            "Test accuracy: 0.91\n"
          ]
        }
      ],
      "source": [
        "# test accuracy\n",
        "correct = 0\n",
        "samples = 0\n",
        "with torch.no_grad():\n",
        "  for i, (images, labels) in enumerate(test_data_loader):\n",
        "    images, labels = images.to(device), labels.to(device)\n",
        "\n",
        "    scores = net(images)\n",
        "    _, pred = scores.max(1)\n",
        "    correct += (pred == labels).sum()\n",
        "    samples += pred.size(0)\n",
        "\n",
        "  acc = float(correct)/float(samples)\n",
        "  print(f'Test accuracy: {round(acc,2)}')"
      ]
    }
  ],
  "metadata": {
    "accelerator": "GPU",
    "colab": {
      "provenance": []
    },
    "gpuClass": "standard",
    "kernelspec": {
      "display_name": "Python 3.9.13 64-bit",
      "language": "python",
      "name": "python3"
    },
    "language_info": {
      "codemirror_mode": {
        "name": "ipython",
        "version": 3
      },
      "file_extension": ".py",
      "mimetype": "text/x-python",
      "name": "python",
      "nbconvert_exporter": "python",
      "pygments_lexer": "ipython3",
      "version": "3.9.13"
    },
    "vscode": {
      "interpreter": {
        "hash": "b0fa6594d8f4cbf19f97940f81e996739fb7646882a419484c72d19e05852a7e"
      }
    }
  },
  "nbformat": 4,
  "nbformat_minor": 0
}
